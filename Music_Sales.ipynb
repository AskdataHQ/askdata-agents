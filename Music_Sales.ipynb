{
  "nbformat": 4,
  "nbformat_minor": 0,
  "metadata": {
    "colab": {
      "name": "Music Sales.ipynb",
      "provenance": [],
      "collapsed_sections": [],
      "authorship_tag": "ABX9TyP4J6WlgmlzUxHL8q5ce7JY",
      "include_colab_link": true
    },
    "kernelspec": {
      "name": "python3",
      "display_name": "Python 3"
    }
  },
  "cells": [
    {
      "cell_type": "markdown",
      "metadata": {
        "id": "view-in-github",
        "colab_type": "text"
      },
      "source": [
        "<a href=\"https://colab.research.google.com/github/AskdataHQ/askdata-agents/blob/master/Music_Sales.ipynb\" target=\"_parent\"><img src=\"https://colab.research.google.com/assets/colab-badge.svg\" alt=\"Open In Colab\"/></a>"
      ]
    },
    {
      "cell_type": "code",
      "metadata": {
        "id": "yBaFaL5Am_Sy",
        "colab_type": "code",
        "colab": {}
      },
      "source": [
        "!pip install askdata"
      ],
      "execution_count": 0,
      "outputs": []
    },
    {
      "cell_type": "code",
      "metadata": {
        "id": "NhnA92DUnd1e",
        "colab_type": "code",
        "colab": {}
      },
      "source": [
        "import pandas as pd\n",
        "from askdata.askdata_client import Askdata, Agent\n",
        "df = pd.read_csv('https://raw.githubusercontent.com/askbase/opendata/master/riaa/u-s-sales-database/Revenue_Chart_Full_Data_data.csv', sep='\\t', encoding = \"UTF-16\")\n",
        "df_clean = df[['Year','Format','Value (Actual)','Total Value # (Billion)']]\n",
        "df_clean.rename(columns={'Total Value # (Billion)':'total_of_the_year','Value (Actual)':'actual_value'}, inplace = True)\n",
        "df_clean['total_of_the_year'] = df_clean['total_of_the_year'].str.replace('$','')\n",
        "df_clean['total_of_the_year'] = df_clean['total_of_the_year'].str.replace('B','').astype(float)* 1000\n",
        "df_clean['actual_value'] = df_clean['actual_value'].astype(float) \n",
        "df_clean"
      ],
      "execution_count": 0,
      "outputs": []
    },
    {
      "cell_type": "code",
      "metadata": {
        "id": "sj_ojfW_nfeC",
        "colab_type": "code",
        "colab": {}
      },
      "source": [
        "#1. replace with token eg. Askdata(token=3453434-34542) or use your credentials\n",
        "askdata = Askdata()"
      ],
      "execution_count": 0,
      "outputs": []
    },
    {
      "cell_type": "code",
      "metadata": {
        "id": "5SBQONOsnhEh",
        "colab_type": "code",
        "colab": {}
      },
      "source": [
        "#2. Get agent id\n",
        "agent = Agent(askdata, agent_id='4158a277-2495-4b9c-8b74-8f083c02ac55')\n",
        "\n",
        "#create dataset if the dataset exists\n",
        "dataset_list = agent.load_datasets()\n"
      ],
      "execution_count": 0,
      "outputs": []
    },
    {
      "cell_type": "code",
      "metadata": {
        "id": "uH0IRynloRNW",
        "colab_type": "code",
        "colab": {}
      },
      "source": [
        "if (((dataset_list['name'] == 'RIAA - US Sales Database')).any() == False):\n",
        "    #update and pass dataset ID\n",
        "    agent.save_to_dataset(frame=df_clean, dataset_name='RIAA - US Sales Database')\n",
        "    \n",
        "# need method to add syonym\n",
        "# need method to add injection\n",
        "# need method to create a channel with the alias\n",
        "# need method to create insight"
      ],
      "execution_count": 0,
      "outputs": []
    }
  ]
}